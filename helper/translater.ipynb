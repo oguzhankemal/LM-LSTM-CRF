{
 "cells": [
  {
   "cell_type": "code",
   "execution_count": 1,
   "metadata": {},
   "outputs": [],
   "source": [
    "from googletrans import Translator\n",
    "import codecs\n",
    "import copy "
   ]
  },
  {
   "cell_type": "code",
   "execution_count": 2,
   "metadata": {},
   "outputs": [],
   "source": [
    "train_file = 'D:/PythoProjects/Datasets/conll003/conll003-englishversion/train.txt'\n",
    "dev_file='D:/PythoProjects/Datasets/conll003/conll003-englishversion/valid.txt'\n",
    "test_file='D:/PythoProjects/Datasets/conll003/conll003-englishversion/test_2.txt'\n"
   ]
  },
  {
   "cell_type": "code",
   "execution_count": 24,
   "metadata": {},
   "outputs": [],
   "source": [
    "def read_corpus(lines):\n",
    "    translator = Translator()\n",
    "    \n",
    "    lineText = \"\"\n",
    "    lineTextTemp = \"\"\n",
    "    tagText = \"\"\n",
    "    tagTextTemp = \"\"\n",
    "    previousTag = \"O\"\n",
    "    \n",
    "    translatedList = []\n",
    "    translatedList.append('-DOCSTART- -X- -X- O')\n",
    "    translatedList.append('')\n",
    "    \n",
    "    lineTags = []\n",
    "    for line in lines:\n",
    "        if not (line.isspace() or (len(line) > 10 and line[0:10] == '-DOCSTART-')):\n",
    "            line = line.rstrip('\\n').split()\n",
    "            if (len(lineTextTemp) > 0) and line[0] != \".\" and line[0] != \",\":\n",
    "                lineTextTemp += \" \"\n",
    "            lineTextTemp += line[0]\n",
    "            \n",
    "            if line[-1].startswith('B-') or line[-1].startswith('O'):\n",
    "                if len(tagTextTemp) > 0:\n",
    "                    tagText = copy.deepcopy(tagTextTemp)\n",
    "                    translation =translator.translate(tagText,dest=\"tr\")\n",
    "                    #print(translation.origin, ' -> ', translation.text) \n",
    "                    newTags = translation.text.rstrip('\\n').split()\n",
    "                    counter = 1\n",
    "                    for newTag in newTags:\n",
    "                        tagBegin = 'B-'\n",
    "                        if counter > 1:\n",
    "                            tagBegin = 'I-'\n",
    "                        lineTags.append(newTag + ' ' + tagBegin + previousTag)\n",
    "                        print(newTag + ' ' + tagBegin + previousTag)\n",
    "                        counter = counter + 1\n",
    "                        \n",
    "                    if line[-1].startswith('B-'):\n",
    "                        tagTextTemp = line[0]\n",
    "                        \n",
    "                        if 'PER' in line[-1]:\n",
    "                            previousTag = 'PER'\n",
    "                        elif 'LOC' in line[-1]:\n",
    "                            previousTag = 'LOC'\n",
    "                        elif 'ORG' in line[-1]:\n",
    "                            previousTag = 'ORG'\n",
    "                    else:\n",
    "                        tagTextTemp = ''\n",
    "                        previousTag = 'O'\n",
    "                    \n",
    "                \n",
    "            elif line[-1].startswith('I-'):\n",
    "                if (len(tagTextTemp) > 0) and line[0] != \".\" and line[0] != \",\":\n",
    "                    tagTextTemp += \" \"\n",
    "                tagTextTemp += line[0]\n",
    "            \n",
    "            \n",
    "        elif (line.isspace() and len(lineTextTemp) > 0):\n",
    "            print('space ----------------------------------')\n",
    "            lineText = copy.deepcopy(lineTextTemp)\n",
    "            translation =translator.translate(lineText,dest=\"tr\")\n",
    "            #print(translation.origin, ' -> ', translation.text) \n",
    "            targetLanguageText = translation.text\n",
    "            targetLanguageWords = targetLanguageText.rstrip('\\n').split()\n",
    "            for targetLanguageWord in targetLanguageWords:\n",
    "                currentTag = 'O'\n",
    "                #for lineTag in lineTags:\n",
    "                    #print(lineTag)\n",
    "                matching = [s for s in lineTags if any(targetLanguageWord in s for xs in lineTags)]\n",
    "                if len(matching) > 0:\n",
    "                    currentWord = matching.rstrip('\\n').split()\n",
    "                    currentTag = currentWord[-1]\n",
    "                translatedList.append(targetLanguageWord + ' ' + currentTag)\n",
    "                #print(targetLanguageWord + ' ' + currentTag)\n",
    "            \n",
    "            translatedList.append('')\n",
    "            lineTextTemp = \"\"\n",
    "        \n",
    "    \n",
    "\n",
    "    return translatedList"
   ]
  },
  {
   "cell_type": "code",
   "execution_count": 25,
   "metadata": {},
   "outputs": [
    {
     "name": "stdout",
     "output_type": "stream",
     "text": [
      "loading corpus\n",
      "space ----------------------------------\n",
      "space ----------------------------------\n",
      "Kız B-O\n",
      "göz B-LOC\n",
      "Arap B-O\n",
      "Emirlikleri I-O\n",
      "space ----------------------------------\n"
     ]
    },
    {
     "ename": "AttributeError",
     "evalue": "'list' object has no attribute 'rstrip'",
     "output_type": "error",
     "traceback": [
      "\u001b[1;31m---------------------------------------------------------------------------\u001b[0m",
      "\u001b[1;31mAttributeError\u001b[0m                            Traceback (most recent call last)",
      "\u001b[1;32m<ipython-input-25-988c077dc9cc>\u001b[0m in \u001b[0;36m<module>\u001b[1;34m\u001b[0m\n\u001b[0;32m      8\u001b[0m     \u001b[0mtest_lines\u001b[0m \u001b[1;33m=\u001b[0m \u001b[0mf\u001b[0m\u001b[1;33m.\u001b[0m\u001b[0mreadlines\u001b[0m\u001b[1;33m(\u001b[0m\u001b[1;33m)\u001b[0m\u001b[1;33m\u001b[0m\u001b[1;33m\u001b[0m\u001b[0m\n\u001b[0;32m      9\u001b[0m \u001b[1;33m\u001b[0m\u001b[0m\n\u001b[1;32m---> 10\u001b[1;33m \u001b[0mtest_features\u001b[0m\u001b[1;33m,\u001b[0m \u001b[0mtest_labels\u001b[0m \u001b[1;33m=\u001b[0m \u001b[0mread_corpus\u001b[0m\u001b[1;33m(\u001b[0m\u001b[0mtest_lines\u001b[0m\u001b[1;33m)\u001b[0m\u001b[1;33m\u001b[0m\u001b[1;33m\u001b[0m\u001b[0m\n\u001b[0m",
      "\u001b[1;32m<ipython-input-24-6ce6c5885bb0>\u001b[0m in \u001b[0;36mread_corpus\u001b[1;34m(lines)\u001b[0m\n\u001b[0;32m     68\u001b[0m                 \u001b[0mmatching\u001b[0m \u001b[1;33m=\u001b[0m \u001b[1;33m[\u001b[0m\u001b[0ms\u001b[0m \u001b[1;32mfor\u001b[0m \u001b[0ms\u001b[0m \u001b[1;32min\u001b[0m \u001b[0mlineTags\u001b[0m \u001b[1;32mif\u001b[0m \u001b[0many\u001b[0m\u001b[1;33m(\u001b[0m\u001b[0mtargetLanguageWord\u001b[0m \u001b[1;32min\u001b[0m \u001b[0ms\u001b[0m \u001b[1;32mfor\u001b[0m \u001b[0mxs\u001b[0m \u001b[1;32min\u001b[0m \u001b[0mlineTags\u001b[0m\u001b[1;33m)\u001b[0m\u001b[1;33m]\u001b[0m\u001b[1;33m\u001b[0m\u001b[1;33m\u001b[0m\u001b[0m\n\u001b[0;32m     69\u001b[0m                 \u001b[1;32mif\u001b[0m \u001b[0mlen\u001b[0m\u001b[1;33m(\u001b[0m\u001b[0mmatching\u001b[0m\u001b[1;33m)\u001b[0m \u001b[1;33m>\u001b[0m \u001b[1;36m0\u001b[0m\u001b[1;33m:\u001b[0m\u001b[1;33m\u001b[0m\u001b[1;33m\u001b[0m\u001b[0m\n\u001b[1;32m---> 70\u001b[1;33m                     \u001b[0mcurrentWord\u001b[0m \u001b[1;33m=\u001b[0m \u001b[0mmatching\u001b[0m\u001b[1;33m.\u001b[0m\u001b[0mrstrip\u001b[0m\u001b[1;33m(\u001b[0m\u001b[1;34m'\\n'\u001b[0m\u001b[1;33m)\u001b[0m\u001b[1;33m.\u001b[0m\u001b[0msplit\u001b[0m\u001b[1;33m(\u001b[0m\u001b[1;33m)\u001b[0m\u001b[1;33m\u001b[0m\u001b[1;33m\u001b[0m\u001b[0m\n\u001b[0m\u001b[0;32m     71\u001b[0m                     \u001b[0mcurrentTag\u001b[0m \u001b[1;33m=\u001b[0m \u001b[0mcurrentWord\u001b[0m\u001b[1;33m[\u001b[0m\u001b[1;33m-\u001b[0m\u001b[1;36m1\u001b[0m\u001b[1;33m]\u001b[0m\u001b[1;33m\u001b[0m\u001b[1;33m\u001b[0m\u001b[0m\n\u001b[0;32m     72\u001b[0m                 \u001b[0mtranslatedList\u001b[0m\u001b[1;33m.\u001b[0m\u001b[0mappend\u001b[0m\u001b[1;33m(\u001b[0m\u001b[0mtargetLanguageWord\u001b[0m \u001b[1;33m+\u001b[0m \u001b[1;34m' '\u001b[0m \u001b[1;33m+\u001b[0m \u001b[0mcurrentTag\u001b[0m\u001b[1;33m)\u001b[0m\u001b[1;33m\u001b[0m\u001b[1;33m\u001b[0m\u001b[0m\n",
      "\u001b[1;31mAttributeError\u001b[0m: 'list' object has no attribute 'rstrip'"
     ]
    }
   ],
   "source": [
    "# load corpus\n",
    "print('loading corpus')\n",
    "with codecs.open(train_file, 'r', 'utf-8') as f:\n",
    "    lines = f.readlines()\n",
    "with codecs.open(dev_file, 'r', 'utf-8') as f:\n",
    "    dev_lines = f.readlines()\n",
    "with codecs.open(test_file, 'r', 'utf-8') as f:\n",
    "    test_lines = f.readlines()\n",
    "\n",
    "test_features, test_labels = read_corpus(test_lines)"
   ]
  },
  {
   "cell_type": "code",
   "execution_count": null,
   "metadata": {},
   "outputs": [],
   "source": [
    "print(test_features)\n",
    "print(test_labels)"
   ]
  },
  {
   "cell_type": "code",
   "execution_count": null,
   "metadata": {},
   "outputs": [],
   "source": [
    "translations =translator.translate(['soccer - japan get lucky win, china in suprise defeat.','japan began the defence of their asian cup title with a lucky 2-1 win against syria in a group c championship match on friday.'],dest=\"tr\")\n",
    "for translation in translations:\n",
    "    print(translation.origin, ' -> ', translation.text)"
   ]
  },
  {
   "cell_type": "code",
   "execution_count": null,
   "metadata": {},
   "outputs": [],
   "source": []
  }
 ],
 "metadata": {
  "kernelspec": {
   "display_name": "Python 3",
   "language": "python",
   "name": "python3"
  },
  "language_info": {
   "codemirror_mode": {
    "name": "ipython",
    "version": 3
   },
   "file_extension": ".py",
   "mimetype": "text/x-python",
   "name": "python",
   "nbconvert_exporter": "python",
   "pygments_lexer": "ipython3",
   "version": "3.6.8"
  }
 },
 "nbformat": 4,
 "nbformat_minor": 2
}
